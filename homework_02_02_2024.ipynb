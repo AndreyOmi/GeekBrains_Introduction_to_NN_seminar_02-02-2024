{
  "nbformat": 4,
  "nbformat_minor": 0,
  "metadata": {
    "colab": {
      "provenance": []
    },
    "kernelspec": {
      "name": "python3",
      "display_name": "Python 3"
    },
    "language_info": {
      "name": "python"
    }
  },
  "cells": [
    {
      "cell_type": "markdown",
      "source": [
        "Практическое домашнее задание к семинару от 02-02-2024:\n",
        "1. Доделать НС из урока, добавить метод predict и проверить на своих собственных данных, оценить accuracy.\n",
        "\n",
        "2. Как вариант, опционально кто сможет для решения этих входных данных обучите НС mlpclassifier от scikit-learn.\n",
        "\n",
        "Сдача только через гитхаб либо ссылкой на блокнот Google Colab.\n"
      ],
      "metadata": {
        "id": "dKXnpHvvK7kE"
      }
    },
    {
      "cell_type": "markdown",
      "source": [
        "Часть 1: добавление метода predict() и проверка на своих собственных данных, оценка accuracy."
      ],
      "metadata": {
        "id": "JqOkW7CrL7t8"
      }
    },
    {
      "cell_type": "code",
      "source": [
        "import numpy as np"
      ],
      "metadata": {
        "id": "OynMETv9Dmvf"
      },
      "execution_count": 2,
      "outputs": []
    },
    {
      "cell_type": "code",
      "execution_count": 3,
      "metadata": {
        "id": "lWo5OXwRDd3C"
      },
      "outputs": [],
      "source": [
        "def sigmoid(x):\n",
        "  # Наша функция активации: f(x) = 1 / (1 + e^(-x))\n",
        "  return 1 / (1 + np.exp(-x))"
      ]
    },
    {
      "cell_type": "code",
      "source": [
        "class Neuron:\n",
        "  def __init__(self, weights, bias):\n",
        "    self.weights = weights\n",
        "    self.bias = bias\n",
        "\n",
        "  def feedforward(self, inputs):\n",
        "    # Умножаем входы на веса, прибавляем порог, затем используем функцию активации\n",
        "    total = np.dot(self.weights, inputs) + self.bias\n",
        "    return sigmoid(total)"
      ],
      "metadata": {
        "id": "ywULOSGaDx1G"
      },
      "execution_count": 4,
      "outputs": []
    },
    {
      "cell_type": "code",
      "source": [
        "weights = np.array([0, 1]) # w1 = 0, w2 = 1\n",
        "bias = 4                   # b = 4\n",
        "n = Neuron(weights, bias)\n",
        "\n",
        "x = np.array([2, 3])       # x1 = 2, x2 = 3\n",
        "print(n.feedforward(x))    # 0.9990889488055994"
      ],
      "metadata": {
        "colab": {
          "base_uri": "https://localhost:8080/"
        },
        "id": "KwOqYXxJE9dF",
        "outputId": "2fe9f214-0a19-4604-9d3d-9864636442b8"
      },
      "execution_count": 5,
      "outputs": [
        {
          "output_type": "stream",
          "name": "stdout",
          "text": [
            "0.9990889488055994\n"
          ]
        }
      ]
    },
    {
      "cell_type": "code",
      "source": [
        "class OurNeuralNetwork:\n",
        "  def __init__(self):\n",
        "    # Веса\n",
        "    self.w1 = np.random.normal()\n",
        "    self.w2 = np.random.normal()\n",
        "    self.w3 = np.random.normal()\n",
        "    self.w4 = np.random.normal()\n",
        "    self.w5 = np.random.normal()\n",
        "    self.w6 = np.random.normal()\n",
        "\n",
        "    # Пороги\n",
        "    self.b1 = np.random.normal()\n",
        "    self.b2 = np.random.normal()\n",
        "    self.b3 = np.random.normal()\n",
        "\n",
        "  def feedforward(self, x):\n",
        "    # x is a numpy array with 2 elements.\n",
        "    h1 = sigmoid(self.w1 * x[0] + self.w2 * x[1] + self.b1)\n",
        "    h2 = sigmoid(self.w3 * x[0] + self.w4 * x[1] + self.b2)\n",
        "    o1 = sigmoid(self.w5 * h1 + self.w6 * h2 + self.b3)\n",
        "    return o1\n",
        "\n",
        "  ### функция для получения прогнозных значений\n",
        "  def predict(self, data):\n",
        "        predictions = []\n",
        "        for x in data:\n",
        "            predictions.append(round(self.feedforward(x)))\n",
        "        return predictions\n",
        "\n",
        "  def train(self, data, all_y_trues):\n",
        "    '''\n",
        "    - data - массив numpy (n x 2) numpy, n = к-во наблюдений в наборе.\n",
        "    - all_y_trues - массив numpy с n элементами.\n",
        "      Элементы all_y_trues соответствуют наблюдениям в data.\n",
        "    '''\n",
        "    learn_rate = 0.1\n",
        "    epochs = 1000 # сколько раз пройти по всему набору данных\n",
        "\n",
        "    for epoch in range(epochs):\n",
        "      for x, y_true in zip(data, all_y_trues):\n",
        "        # --- Прямой проход (эти значения нам понадобятся позже)\n",
        "        sum_h1 = self.w1 * x[0] + self.w2 * x[1] + self.b1\n",
        "        h1 = sigmoid(sum_h1)\n",
        "\n",
        "        sum_h2 = self.w3 * x[0] + self.w4 * x[1] + self.b2\n",
        "        h2 = sigmoid(sum_h2)\n",
        "\n",
        "        sum_o1 = self.w5 * h1 + self.w6 * h2 + self.b3\n",
        "        o1 = sigmoid(sum_o1)\n",
        "        y_pred = o1\n",
        "\n",
        "        # --- Считаем частные производные.\n",
        "        # --- Имена: d_L_d_w1 = \"частная производная L по w1\"\n",
        "        d_L_d_ypred = -2 * (y_true - y_pred)\n",
        "\n",
        "        # Нейрон o1\n",
        "        d_ypred_d_w5 = h1 * deriv_sigmoid(sum_o1)\n",
        "        d_ypred_d_w6 = h2 * deriv_sigmoid(sum_o1)\n",
        "        d_ypred_d_b3 = deriv_sigmoid(sum_o1)\n",
        "\n",
        "        d_ypred_d_h1 = self.w5 * deriv_sigmoid(sum_o1)\n",
        "        d_ypred_d_h2 = self.w6 * deriv_sigmoid(sum_o1)\n",
        "\n",
        "        # Нейрон h1\n",
        "        d_h1_d_w1 = x[0] * deriv_sigmoid(sum_h1)\n",
        "        d_h1_d_w2 = x[1] * deriv_sigmoid(sum_h1)\n",
        "        d_h1_d_b1 = deriv_sigmoid(sum_h1)\n",
        "\n",
        "        # Нейрон h2\n",
        "        d_h2_d_w3 = x[0] * deriv_sigmoid(sum_h2)\n",
        "        d_h2_d_w4 = x[1] * deriv_sigmoid(sum_h2)\n",
        "        d_h2_d_b2 = deriv_sigmoid(sum_h2)\n",
        "\n",
        "        # --- Обновляем веса и пороги\n",
        "        # Нейрон h1\n",
        "        self.w1 -= learn_rate * d_L_d_ypred * d_ypred_d_h1 * d_h1_d_w1\n",
        "        self.w2 -= learn_rate * d_L_d_ypred * d_ypred_d_h1 * d_h1_d_w2\n",
        "        self.b1 -= learn_rate * d_L_d_ypred * d_ypred_d_h1 * d_h1_d_b1\n",
        "\n",
        "        # Нейрон h2\n",
        "        self.w3 -= learn_rate * d_L_d_ypred * d_ypred_d_h2 * d_h2_d_w3\n",
        "        self.w4 -= learn_rate * d_L_d_ypred * d_ypred_d_h2 * d_h2_d_w4\n",
        "        self.b2 -= learn_rate * d_L_d_ypred * d_ypred_d_h2 * d_h2_d_b2\n",
        "\n",
        "        # Нейрон o1\n",
        "        self.w5 -= learn_rate * d_L_d_ypred * d_ypred_d_w5\n",
        "        self.w6 -= learn_rate * d_L_d_ypred * d_ypred_d_w6\n",
        "        self.b3 -= learn_rate * d_L_d_ypred * d_ypred_d_b3\n",
        "\n",
        "      # --- Считаем полные потери в конце каждой эпохи\n",
        "      if epoch % 100 == 0:\n",
        "        y_preds = np.apply_along_axis(self.feedforward, 1, data)\n",
        "        loss = mse_loss(all_y_trues, y_preds)\n",
        "        print(\"Epoch %d loss: %.3f\" % (epoch, loss))"
      ],
      "metadata": {
        "id": "3ZurGOmTFatr"
      },
      "execution_count": 24,
      "outputs": []
    },
    {
      "cell_type": "code",
      "source": [
        "def mse_loss(y_true, y_pred):\n",
        "  # y_true и y_pred - массивы numpy одинаковой длины.\n",
        "  return ((y_true - y_pred) ** 2).mean()"
      ],
      "metadata": {
        "id": "g_RcWISlGz6b"
      },
      "execution_count": 7,
      "outputs": []
    },
    {
      "cell_type": "code",
      "source": [
        "def deriv_sigmoid(x):\n",
        "  # Производная сигмоиды: f'(x) = f(x) * (1 - f(x))\n",
        "  fx = sigmoid(x)\n",
        "  return fx * (1 - fx)"
      ],
      "metadata": {
        "id": "wAWrGm6XIN3x"
      },
      "execution_count": 8,
      "outputs": []
    },
    {
      "cell_type": "code",
      "source": [
        "def calculate_accuracy(true_values, predicted_values):\n",
        "    \"\"\"\n",
        "    Calculate accuracy metric.\n",
        "\n",
        "    Аргументы функции:\n",
        "    true_values (array-like): массив истинных значений.\n",
        "    predicted_values (array-like): массив прогнозных значений.\n",
        "\n",
        "    Возращаемые значения:\n",
        "    float: метрика точности (accuracy).\n",
        "    \"\"\"\n",
        "    # проверка соответствие аргументов\n",
        "    if len(true_values) != len(predicted_values):\n",
        "        raise ValueError(\"Длины массива истинных значений и массива прогнозных значений должны быть равными.\")\n",
        "\n",
        "    # Непосредственно расчет accuracy\n",
        "    correct_predictions = sum(1 for true, pred in zip(true_values, predicted_values) if true == pred)\n",
        "    #print(\"Сумма правильно предсказанных значений: \", {correct_predictions})\n",
        "    total_predictions = len(true_values)\n",
        "    accuracy = correct_predictions / total_predictions\n",
        "\n",
        "    return accuracy"
      ],
      "metadata": {
        "id": "hpr8lsE5vDuD"
      },
      "execution_count": 53,
      "outputs": []
    },
    {
      "cell_type": "code",
      "source": [
        "### функция для нормализации и масштабирования веса и роста человека\n",
        "\n",
        "def normalize_height_weight(data):\n",
        "    # Приведение входных данных к numpy массиву\n",
        "    data = np.array(data)\n",
        "\n",
        "    # Проверка размерности входных данных\n",
        "    if data.ndim != 2 or data.shape[1] != 2:\n",
        "        raise ValueError(\"Аргументом функции должен быть двумерный массив NumPy (матрица), где первый столбец - рост, а второй - вес.\")\n",
        "\n",
        "    ### нормализация данных\n",
        "    normalized_data = (data - np.mean(data, axis=0)) / np.std(data, axis=0)\n",
        "\n",
        "    ### масштабирование данных в значения из диапазона [0, 1]\n",
        "    ### подходит для применения в наборах данных с большим количеством входных переменных - в данной задаче я это не применял\n",
        "    #scaled_data = (normalized_data - np.min(normalized_data, axis=0)) / (np.max(normalized_data, axis=0) - np.min(normalized_data, axis=0))\n",
        "\n",
        "    return normalized_data\n"
      ],
      "metadata": {
        "id": "J71JKf0ogt5-"
      },
      "execution_count": 9,
      "outputs": []
    },
    {
      "cell_type": "code",
      "source": [
        "# Определим набор данных\n",
        "data = np.array([\n",
        "  [54.5, 165.1],  # Алиса\n",
        "  [65.44, 183],   # Боб\n",
        "  [62.2, 178],   # Чарли\n",
        "  [49, 152], # Диана\n",
        "])\n",
        "all_y_trues = np.array([\n",
        "  1, # Алиса\n",
        "  0, # Боб\n",
        "  0, # Чарли\n",
        "  1, # Диана\n",
        "])"
      ],
      "metadata": {
        "id": "UDp_NhE-IpWx"
      },
      "execution_count": 58,
      "outputs": []
    },
    {
      "cell_type": "code",
      "source": [
        "### нормализуем входные данные\n",
        "scaled_input_data = normalize_height_weight(data)\n",
        "print(\"Подготовленные входные данные:\")\n",
        "print(scaled_input_data)"
      ],
      "metadata": {
        "colab": {
          "base_uri": "https://localhost:8080/"
        },
        "id": "I2OXSYGjjHnm",
        "outputId": "bccd0464-658e-434b-e4de-87106b120525"
      },
      "execution_count": 29,
      "outputs": [
        {
          "output_type": "stream",
          "name": "stdout",
          "text": [
            "Подготовленные входные данные:\n",
            "[[-0.50984076 -0.3674422 ]\n",
            " [ 1.18807641  1.11893415]\n",
            " [ 0.68521977  0.70374523]\n",
            " [-1.36345543 -1.45523718]]\n"
          ]
        }
      ]
    },
    {
      "cell_type": "code",
      "source": [
        "network = OurNeuralNetwork()\n",
        "network.train(scaled_input_data, all_y_trues)"
      ],
      "metadata": {
        "colab": {
          "base_uri": "https://localhost:8080/"
        },
        "id": "kldwIdYoLYDN",
        "outputId": "3128f6f6-d0e3-45f8-a059-328ecb4c4371"
      },
      "execution_count": 30,
      "outputs": [
        {
          "output_type": "stream",
          "name": "stdout",
          "text": [
            "Epoch 0 loss: 0.240\n",
            "Epoch 100 loss: 0.053\n",
            "Epoch 200 loss: 0.017\n",
            "Epoch 300 loss: 0.009\n",
            "Epoch 400 loss: 0.006\n",
            "Epoch 500 loss: 0.004\n",
            "Epoch 600 loss: 0.003\n",
            "Epoch 700 loss: 0.003\n",
            "Epoch 800 loss: 0.002\n",
            "Epoch 900 loss: 0.002\n"
          ]
        }
      ]
    },
    {
      "cell_type": "code",
      "source": [
        "# Ввод собственных данных\n",
        "my_data = np.array([\n",
        "  [91, 181],  # Андрей\n",
        "  [50, 160],   # Лиза\n",
        "  [75, 180],   # Даниил\n",
        "  [55, 172], # Александра\n",
        "])\n",
        "my_y_trues = np.array([\n",
        "  0, # Андрей\n",
        "  1, # Лиза\n",
        "  0, # Даниил\n",
        "  1, # Александра\n",
        "])"
      ],
      "metadata": {
        "id": "EB2BaT2olXdI"
      },
      "execution_count": 46,
      "outputs": []
    },
    {
      "cell_type": "code",
      "source": [
        "### нормализуем собственные входные данные\n",
        "scaled_input_my_data = normalize_height_weight(my_data)\n",
        "print(\"Подготовленные собственные входные данные:\")\n",
        "print(scaled_input_my_data)"
      ],
      "metadata": {
        "colab": {
          "base_uri": "https://localhost:8080/"
        },
        "id": "FOVkH53WmsOt",
        "outputId": "a9a94524-a7df-411a-86db-8d4ce26bbd47"
      },
      "execution_count": 47,
      "outputs": [
        {
          "output_type": "stream",
          "name": "stdout",
          "text": [
            "Подготовленные собственные входные данные:\n",
            "[[ 1.42104854  0.9217866 ]\n",
            " [-1.08488652 -1.57595774]\n",
            " [ 0.44312266  0.8028464 ]\n",
            " [-0.77928468 -0.14867526]]\n"
          ]
        }
      ]
    },
    {
      "cell_type": "code",
      "source": [
        "### Строим прогноз на основе ранее обученной модели для собственных данных c округлением, чтобы получить\n",
        "predictions = network.predict(scaled_input_my_data)\n",
        "print(\"Predictions:\", predictions)"
      ],
      "metadata": {
        "colab": {
          "base_uri": "https://localhost:8080/"
        },
        "id": "vLu_7M3qnH_a",
        "outputId": "b446d7cb-fc0d-4946-c79e-8f9fa5979233"
      },
      "execution_count": 50,
      "outputs": [
        {
          "output_type": "stream",
          "name": "stdout",
          "text": [
            "Predictions: [0, 1, 0, 1]\n"
          ]
        }
      ]
    },
    {
      "cell_type": "code",
      "source": [
        "accuracy_value = calculate_accuracy(my_y_trues, predictions)\n",
        "print(\"Accuracy:\", accuracy_value)"
      ],
      "metadata": {
        "colab": {
          "base_uri": "https://localhost:8080/"
        },
        "id": "irBaCVQAoy0l",
        "outputId": "745f21ab-c43a-493b-80bf-35f35efb42f5"
      },
      "execution_count": 54,
      "outputs": [
        {
          "output_type": "stream",
          "name": "stdout",
          "text": [
            "Accuracy: 1.0\n"
          ]
        }
      ]
    },
    {
      "cell_type": "markdown",
      "source": [
        "Часть 2: для решения этих входных данных обучение нейронной сети с помощью модуля MLPClassifier из библиотеки scikit-learn."
      ],
      "metadata": {
        "id": "08KzlE772Ale"
      }
    },
    {
      "cell_type": "code",
      "source": [
        "from sklearn.neural_network import MLPClassifier\n",
        "from sklearn.preprocessing import StandardScaler\n",
        "from sklearn.model_selection import train_test_split\n",
        "from sklearn.metrics import accuracy_score"
      ],
      "metadata": {
        "id": "K4Cp1PG82eJl"
      },
      "execution_count": 69,
      "outputs": []
    },
    {
      "cell_type": "code",
      "source": [
        "#### нормализация входных данных средствами библиотеки scikit-learn\n",
        "scaler = StandardScaler()\n",
        "X_scaled = scaler.fit_transform(data)\n",
        "print(X_scaled)"
      ],
      "metadata": {
        "colab": {
          "base_uri": "https://localhost:8080/"
        },
        "id": "fOBPsBGG7n0W",
        "outputId": "c28f03a3-0252-47d5-8c59-02cfa040cf79"
      },
      "execution_count": 70,
      "outputs": [
        {
          "output_type": "stream",
          "name": "stdout",
          "text": [
            "[[-0.50984076 -0.3674422 ]\n",
            " [ 1.18807641  1.11893415]\n",
            " [ 0.68521977  0.70374523]\n",
            " [-1.36345543 -1.45523718]]\n"
          ]
        }
      ]
    },
    {
      "cell_type": "code",
      "source": [
        "X_train, X_test, y_train, y_test = train_test_split(X_scaled, all_y_trues, test_size = 0.2, random_state = 42)\n",
        "#print(f'{X_train=}')\n",
        "#print(f'{X_test=}')\n",
        "#print(f'{y_train=}')\n",
        "#print(f'{y_test=}')"
      ],
      "metadata": {
        "id": "nGctufcv7v8u"
      },
      "execution_count": 90,
      "outputs": []
    },
    {
      "cell_type": "code",
      "source": [
        "#### Строим модель многослойного перцептрона из двух скрытых слоёв в 100 и 50 нейронов соответственно\n",
        "MLP_model = MLPClassifier(hidden_layer_sizes=(100, 50), activation='relu', solver='adam', random_state = 42)\n",
        "MLP_model.fit(X_train, y_train)"
      ],
      "metadata": {
        "colab": {
          "base_uri": "https://localhost:8080/",
          "height": 74
        },
        "id": "zpTTE2WZ8imk",
        "outputId": "b7035087-3132-4989-fe19-c217706f2bec"
      },
      "execution_count": 91,
      "outputs": [
        {
          "output_type": "execute_result",
          "data": {
            "text/plain": [
              "MLPClassifier(hidden_layer_sizes=(100, 50), random_state=42)"
            ],
            "text/html": [
              "<style>#sk-container-id-5 {color: black;background-color: white;}#sk-container-id-5 pre{padding: 0;}#sk-container-id-5 div.sk-toggleable {background-color: white;}#sk-container-id-5 label.sk-toggleable__label {cursor: pointer;display: block;width: 100%;margin-bottom: 0;padding: 0.3em;box-sizing: border-box;text-align: center;}#sk-container-id-5 label.sk-toggleable__label-arrow:before {content: \"▸\";float: left;margin-right: 0.25em;color: #696969;}#sk-container-id-5 label.sk-toggleable__label-arrow:hover:before {color: black;}#sk-container-id-5 div.sk-estimator:hover label.sk-toggleable__label-arrow:before {color: black;}#sk-container-id-5 div.sk-toggleable__content {max-height: 0;max-width: 0;overflow: hidden;text-align: left;background-color: #f0f8ff;}#sk-container-id-5 div.sk-toggleable__content pre {margin: 0.2em;color: black;border-radius: 0.25em;background-color: #f0f8ff;}#sk-container-id-5 input.sk-toggleable__control:checked~div.sk-toggleable__content {max-height: 200px;max-width: 100%;overflow: auto;}#sk-container-id-5 input.sk-toggleable__control:checked~label.sk-toggleable__label-arrow:before {content: \"▾\";}#sk-container-id-5 div.sk-estimator input.sk-toggleable__control:checked~label.sk-toggleable__label {background-color: #d4ebff;}#sk-container-id-5 div.sk-label input.sk-toggleable__control:checked~label.sk-toggleable__label {background-color: #d4ebff;}#sk-container-id-5 input.sk-hidden--visually {border: 0;clip: rect(1px 1px 1px 1px);clip: rect(1px, 1px, 1px, 1px);height: 1px;margin: -1px;overflow: hidden;padding: 0;position: absolute;width: 1px;}#sk-container-id-5 div.sk-estimator {font-family: monospace;background-color: #f0f8ff;border: 1px dotted black;border-radius: 0.25em;box-sizing: border-box;margin-bottom: 0.5em;}#sk-container-id-5 div.sk-estimator:hover {background-color: #d4ebff;}#sk-container-id-5 div.sk-parallel-item::after {content: \"\";width: 100%;border-bottom: 1px solid gray;flex-grow: 1;}#sk-container-id-5 div.sk-label:hover label.sk-toggleable__label {background-color: #d4ebff;}#sk-container-id-5 div.sk-serial::before {content: \"\";position: absolute;border-left: 1px solid gray;box-sizing: border-box;top: 0;bottom: 0;left: 50%;z-index: 0;}#sk-container-id-5 div.sk-serial {display: flex;flex-direction: column;align-items: center;background-color: white;padding-right: 0.2em;padding-left: 0.2em;position: relative;}#sk-container-id-5 div.sk-item {position: relative;z-index: 1;}#sk-container-id-5 div.sk-parallel {display: flex;align-items: stretch;justify-content: center;background-color: white;position: relative;}#sk-container-id-5 div.sk-item::before, #sk-container-id-5 div.sk-parallel-item::before {content: \"\";position: absolute;border-left: 1px solid gray;box-sizing: border-box;top: 0;bottom: 0;left: 50%;z-index: -1;}#sk-container-id-5 div.sk-parallel-item {display: flex;flex-direction: column;z-index: 1;position: relative;background-color: white;}#sk-container-id-5 div.sk-parallel-item:first-child::after {align-self: flex-end;width: 50%;}#sk-container-id-5 div.sk-parallel-item:last-child::after {align-self: flex-start;width: 50%;}#sk-container-id-5 div.sk-parallel-item:only-child::after {width: 0;}#sk-container-id-5 div.sk-dashed-wrapped {border: 1px dashed gray;margin: 0 0.4em 0.5em 0.4em;box-sizing: border-box;padding-bottom: 0.4em;background-color: white;}#sk-container-id-5 div.sk-label label {font-family: monospace;font-weight: bold;display: inline-block;line-height: 1.2em;}#sk-container-id-5 div.sk-label-container {text-align: center;}#sk-container-id-5 div.sk-container {/* jupyter's `normalize.less` sets `[hidden] { display: none; }` but bootstrap.min.css set `[hidden] { display: none !important; }` so we also need the `!important` here to be able to override the default hidden behavior on the sphinx rendered scikit-learn.org. See: https://github.com/scikit-learn/scikit-learn/issues/21755 */display: inline-block !important;position: relative;}#sk-container-id-5 div.sk-text-repr-fallback {display: none;}</style><div id=\"sk-container-id-5\" class=\"sk-top-container\"><div class=\"sk-text-repr-fallback\"><pre>MLPClassifier(hidden_layer_sizes=(100, 50), random_state=42)</pre><b>In a Jupyter environment, please rerun this cell to show the HTML representation or trust the notebook. <br />On GitHub, the HTML representation is unable to render, please try loading this page with nbviewer.org.</b></div><div class=\"sk-container\" hidden><div class=\"sk-item\"><div class=\"sk-estimator sk-toggleable\"><input class=\"sk-toggleable__control sk-hidden--visually\" id=\"sk-estimator-id-5\" type=\"checkbox\" checked><label for=\"sk-estimator-id-5\" class=\"sk-toggleable__label sk-toggleable__label-arrow\">MLPClassifier</label><div class=\"sk-toggleable__content\"><pre>MLPClassifier(hidden_layer_sizes=(100, 50), random_state=42)</pre></div></div></div></div></div>"
            ]
          },
          "metadata": {},
          "execution_count": 91
        }
      ]
    },
    {
      "cell_type": "code",
      "source": [
        "y_pred = MLP_model.predict(X_test)\n",
        "print(\"Predictions:\", y_pred)\n",
        "accuracy = accuracy_score(y_test, y_pred)\n",
        "print(\"Accuracy:\", accuracy)"
      ],
      "metadata": {
        "colab": {
          "base_uri": "https://localhost:8080/"
        },
        "id": "ZBd34nnC8j2g",
        "outputId": "a2c00e57-1597-439b-b46c-bb1c266307df"
      },
      "execution_count": 92,
      "outputs": [
        {
          "output_type": "stream",
          "name": "stdout",
          "text": [
            "Predictions: [0]\n",
            "Accuracy: 1.0\n"
          ]
        }
      ]
    },
    {
      "cell_type": "code",
      "source": [
        "### Проверка работы модели на собственных данных\n",
        "my_scaler = StandardScaler()\n",
        "my_X_scaled = my_scaler.fit_transform(my_data)\n",
        "print(my_X_scaled)\n",
        "\n",
        "my_new_predictions = MLP_model.predict(my_X_scaled)\n",
        "print(\"Predictions:\", my_new_predictions)\n",
        "\n",
        "my_accuracy = accuracy_score(my_y_trues, my_new_predictions)\n",
        "print(\"Accuracy:\", my_accuracy)"
      ],
      "metadata": {
        "colab": {
          "base_uri": "https://localhost:8080/"
        },
        "id": "xlCHLtPgCNBb",
        "outputId": "53f1fd19-65c5-4c89-c0ab-b117e8721983"
      },
      "execution_count": 93,
      "outputs": [
        {
          "output_type": "stream",
          "name": "stdout",
          "text": [
            "[[ 1.42104854  0.9217866 ]\n",
            " [-1.08488652 -1.57595774]\n",
            " [ 0.44312266  0.8028464 ]\n",
            " [-0.77928468 -0.14867526]]\n",
            "Predictions: [0 1 0 1]\n",
            "Accuracy: 1.0\n"
          ]
        }
      ]
    }
  ]
}